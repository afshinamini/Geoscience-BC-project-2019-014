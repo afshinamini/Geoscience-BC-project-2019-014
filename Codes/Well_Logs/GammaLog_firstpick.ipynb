{
 "cells": [
  {
   "cell_type": "code",
   "execution_count": 8,
   "metadata": {},
   "outputs": [],
   "source": [
    "import lasio\n",
    "import pandas as pd\n",
    "import os"
   ]
  },
  {
   "cell_type": "markdown",
   "metadata": {},
   "source": [
    "## GammaRay Logs sample first pick"
   ]
  },
  {
   "cell_type": "code",
   "execution_count": 9,
   "metadata": {},
   "outputs": [],
   "source": [
    "# Read the Files\n",
    "\n",
    "las_file_list = []\n",
    "path = 'Data/'"
   ]
  },
  {
   "cell_type": "code",
   "execution_count": 10,
   "metadata": {},
   "outputs": [
    {
     "data": {
      "text/plain": [
       "['200a002H094G0200_g12_TVD_MainPass_SelCrv.LAS',\n",
       " '200a002H094G0200_g17_TVD_MainPass_SelCrv.LAS',\n",
       " '200a002H094G0200_g18_TVD_MainPass_SelCrv.LAS',\n",
       " '200a002H094G0200_g8_TVD_MainPass_SelCrv.LAS',\n",
       " '200a002H094G0202_g10_TVD_MainPass_SelCrv.LAS',\n",
       " '200a002H094G0202_g13_TVD_MainPass_SelCrv.LAS',\n",
       " '200a002H094G0202_g4_TVD_MainPass_SelCrv.LAS',\n",
       " '200a002H094G0202_g7_TVD_MainPass_SelCrv.LAS',\n",
       " '200a004H093P0900_g3_TVD_MainPass_SelCrv.LAS']"
      ]
     },
     "execution_count": 10,
     "metadata": {},
     "output_type": "execute_result"
    }
   ],
   "source": [
    "# View contents of the path, we will see LAS files\n",
    "files = os.listdir(path)\n",
    "files"
   ]
  },
  {
   "cell_type": "code",
   "execution_count": 11,
   "metadata": {},
   "outputs": [
    {
     "data": {
      "text/plain": [
       "['Data/200a002H094G0200_g12_TVD_MainPass_SelCrv.LAS',\n",
       " 'Data/200a002H094G0200_g17_TVD_MainPass_SelCrv.LAS',\n",
       " 'Data/200a002H094G0200_g18_TVD_MainPass_SelCrv.LAS',\n",
       " 'Data/200a002H094G0200_g8_TVD_MainPass_SelCrv.LAS',\n",
       " 'Data/200a002H094G0202_g10_TVD_MainPass_SelCrv.LAS',\n",
       " 'Data/200a002H094G0202_g13_TVD_MainPass_SelCrv.LAS',\n",
       " 'Data/200a002H094G0202_g4_TVD_MainPass_SelCrv.LAS',\n",
       " 'Data/200a002H094G0202_g7_TVD_MainPass_SelCrv.LAS',\n",
       " 'Data/200a004H093P0900_g3_TVD_MainPass_SelCrv.LAS']"
      ]
     },
     "execution_count": 11,
     "metadata": {},
     "output_type": "execute_result"
    }
   ],
   "source": [
    "for file in files:\n",
    "    if file.lower().endswith('.las'):\n",
    "        las_file_list.append(path + file)\n",
    "        \n",
    "las_file_list"
   ]
  },
  {
   "cell_type": "code",
   "execution_count": 17,
   "metadata": {},
   "outputs": [],
   "source": [
    "df_list = []\n",
    "\n",
    "\n",
    "las = lasio.read('Data/200a002H094G0200_g12_TVD_MainPass_SelCrv.LAS')\n",
    "lasdf = las.df()\n",
    "lasdf = lasdf.sort_values('DEPT')\n",
    "    \n",
    "lasdf['UWI'] = las.well.UWI.value\n",
    "lasdf['Latitude'] = las.well.LATI.value\n",
    "lasdf['Longitude'] = las.well.LONG.value\n",
    "    \n",
    "lasdf = lasdf.reset_index()\n",
    "    #lasdf = lasdf.rename(columns={\"index\": \"Depth\"})\n",
    "lasdf = lasdf[['DEPT','UWI']]\n",
    "lasdf.to_excel(r'C:\\Users\\aamini\\Desktop\\LAS_test\\Data\\*.xlsx',index=False, header=True)\n",
    "    \n",
    "    \n",
    "    \n"
   ]
  },
  {
   "cell_type": "code",
   "execution_count": 20,
   "metadata": {},
   "outputs": [],
   "source": [
    "df_list = []\n",
    "\n",
    "for lasfile in las_file_list:\n",
    "    las = lasio.read(lasfile)\n",
    "    lasdf = las.df()\n",
    "    lasdf = lasdf.sort_values('DEPT')\n",
    "    \n",
    "    lasdf['UWI'] = las.well.UWI.value\n",
    "    lasdf['Latitude'] = las.well.LATI.value\n",
    "    lasdf['Longitude'] = las.well.LONG.value\n",
    "    \n",
    "    lasdf = lasdf.reset_index()\n",
    "    #lasdf = lasdf.rename(columns={\"index\": \"Depth\"})\n",
    "    lasdf = lasdf[['DEPT','UWI']]\n",
    "    #lasdf.to_excel(r'C:\\Users\\aamini\\Desktop\\14-Feb\\Data\\lasfile.xlsx',index=False, header=True)\n",
    "    \n",
    "    \n",
    "    \n",
    "    filename = lasfile + '.xlsx'\n",
    "    #writer = ExcelWriter(filename, engine='xlsxwriter')\n",
    "    lasdf.to_excel(filename, index=False)\n",
    "    #writer.save()"
   ]
  },
  {
   "cell_type": "code",
   "execution_count": 98,
   "metadata": {},
   "outputs": [
    {
     "data": {
      "text/plain": [
       "[              GR               UWI  Latitude  Longitude\n",
       " DEPT                                                   \n",
       " 1745.750     NaN  200a002H094G0200       0.0        0.0\n",
       " 1745.875     NaN  200a002H094G0200       0.0        0.0\n",
       " 1746.000     NaN  200a002H094G0200       0.0        0.0\n",
       " 1746.125  53.283  200a002H094G0200       0.0        0.0\n",
       " 1746.250  53.127  200a002H094G0200       0.0        0.0\n",
       " ...          ...               ...       ...        ...\n",
       " 2303.750     NaN  200a002H094G0200       0.0        0.0\n",
       " 2303.875     NaN  200a002H094G0200       0.0        0.0\n",
       " 2304.000     NaN  200a002H094G0200       0.0        0.0\n",
       " 2304.125     NaN  200a002H094G0200       0.0        0.0\n",
       " 2304.250     NaN  200a002H094G0200       0.0        0.0\n",
       " \n",
       " [4469 rows x 4 columns],\n",
       "               GR               UWI  Latitude  Longitude\n",
       " DEPT                                                   \n",
       " 39.000       NaN  200A002H094G0200       0.0        0.0\n",
       " 39.125       NaN  200A002H094G0200       0.0        0.0\n",
       " 39.250       NaN  200A002H094G0200       0.0        0.0\n",
       " 39.375    51.086  200A002H094G0200       0.0        0.0\n",
       " 39.500    51.881  200A002H094G0200       0.0        0.0\n",
       " ...          ...               ...       ...        ...\n",
       " 1906.500     NaN  200A002H094G0200       0.0        0.0\n",
       " 1906.625     NaN  200A002H094G0200       0.0        0.0\n",
       " 1906.750     NaN  200A002H094G0200       0.0        0.0\n",
       " 1906.875     NaN  200A002H094G0200       0.0        0.0\n",
       " 1907.000     NaN  200A002H094G0200       0.0        0.0\n",
       " \n",
       " [14945 rows x 4 columns],\n",
       "               GR               UWI  Latitude  Longitude\n",
       " DEPT                                                   \n",
       " 39.000       NaN  200A002H094G0200       0.0        0.0\n",
       " 39.125       NaN  200A002H094G0200       0.0        0.0\n",
       " 39.250       NaN  200A002H094G0200       0.0        0.0\n",
       " 39.375    51.086  200A002H094G0200       0.0        0.0\n",
       " 39.500    51.881  200A002H094G0200       0.0        0.0\n",
       " ...          ...               ...       ...        ...\n",
       " 1906.500     NaN  200A002H094G0200       0.0        0.0\n",
       " 1906.625     NaN  200A002H094G0200       0.0        0.0\n",
       " 1906.750     NaN  200A002H094G0200       0.0        0.0\n",
       " 1906.875     NaN  200A002H094G0200       0.0        0.0\n",
       " 1907.000     NaN  200A002H094G0200       0.0        0.0\n",
       " \n",
       " [14945 rows x 4 columns],\n",
       "               GR               UWI  Latitude  Longitude\n",
       " DEPT                                                   \n",
       " 1745.750     NaN  200a002H094G0200       0.0        0.0\n",
       " 1745.875     NaN  200a002H094G0200       0.0        0.0\n",
       " 1746.000     NaN  200a002H094G0200       0.0        0.0\n",
       " 1746.125  53.283  200a002H094G0200       0.0        0.0\n",
       " 1746.250  53.127  200a002H094G0200       0.0        0.0\n",
       " ...          ...               ...       ...        ...\n",
       " 2303.750     NaN  200a002H094G0200       0.0        0.0\n",
       " 2303.875     NaN  200a002H094G0200       0.0        0.0\n",
       " 2304.000     NaN  200a002H094G0200       0.0        0.0\n",
       " 2304.125     NaN  200a002H094G0200       0.0        0.0\n",
       " 2304.250     NaN  200a002H094G0200       0.0        0.0\n",
       " \n",
       " [4469 rows x 4 columns],\n",
       "               GR                      UWI  Latitude  Longitude\n",
       " DEPT                                                          \n",
       " 39.000       NaN  200/a-002-H 094-G-02/02       0.0        0.0\n",
       " 39.125       NaN  200/a-002-H 094-G-02/02       0.0        0.0\n",
       " 39.250       NaN  200/a-002-H 094-G-02/02       0.0        0.0\n",
       " 39.375    51.086  200/a-002-H 094-G-02/02       0.0        0.0\n",
       " 39.500    51.881  200/a-002-H 094-G-02/02       0.0        0.0\n",
       " ...          ...                      ...       ...        ...\n",
       " 1906.500     NaN  200/a-002-H 094-G-02/02       0.0        0.0\n",
       " 1906.625     NaN  200/a-002-H 094-G-02/02       0.0        0.0\n",
       " 1906.750     NaN  200/a-002-H 094-G-02/02       0.0        0.0\n",
       " 1906.875     NaN  200/a-002-H 094-G-02/02       0.0        0.0\n",
       " 1907.000     NaN  200/a-002-H 094-G-02/02       0.0        0.0\n",
       " \n",
       " [14945 rows x 4 columns],\n",
       "               GR                      UWI  Latitude  Longitude\n",
       " DEPT                                                          \n",
       " 1745.750     NaN  200/a-002-H 094-G-02/02       0.0        0.0\n",
       " 1745.875     NaN  200/a-002-H 094-G-02/02       0.0        0.0\n",
       " 1746.000     NaN  200/a-002-H 094-G-02/02       0.0        0.0\n",
       " 1746.125  53.283  200/a-002-H 094-G-02/02       0.0        0.0\n",
       " 1746.250  53.127  200/a-002-H 094-G-02/02       0.0        0.0\n",
       " ...          ...                      ...       ...        ...\n",
       " 2303.750     NaN  200/a-002-H 094-G-02/02       0.0        0.0\n",
       " 2303.875     NaN  200/a-002-H 094-G-02/02       0.0        0.0\n",
       " 2304.000     NaN  200/a-002-H 094-G-02/02       0.0        0.0\n",
       " 2304.125     NaN  200/a-002-H 094-G-02/02       0.0        0.0\n",
       " 2304.250     NaN  200/a-002-H 094-G-02/02       0.0        0.0\n",
       " \n",
       " [4469 rows x 4 columns],\n",
       "               GR                      UWI  Latitude  Longitude\n",
       " DEPT                                                          \n",
       " 39.000       NaN  200/a-002-H 094-G-02/02       0.0        0.0\n",
       " 39.125       NaN  200/a-002-H 094-G-02/02       0.0        0.0\n",
       " 39.250       NaN  200/a-002-H 094-G-02/02       0.0        0.0\n",
       " 39.375    51.086  200/a-002-H 094-G-02/02       0.0        0.0\n",
       " 39.500    51.881  200/a-002-H 094-G-02/02       0.0        0.0\n",
       " ...          ...                      ...       ...        ...\n",
       " 1906.500     NaN  200/a-002-H 094-G-02/02       0.0        0.0\n",
       " 1906.625     NaN  200/a-002-H 094-G-02/02       0.0        0.0\n",
       " 1906.750     NaN  200/a-002-H 094-G-02/02       0.0        0.0\n",
       " 1906.875     NaN  200/a-002-H 094-G-02/02       0.0        0.0\n",
       " 1907.000     NaN  200/a-002-H 094-G-02/02       0.0        0.0\n",
       " \n",
       " [14945 rows x 4 columns],\n",
       "               GR                      UWI  Latitude  Longitude\n",
       " DEPT                                                          \n",
       " 1745.750     NaN  200/a-002-H 094-G-02/02       0.0        0.0\n",
       " 1745.875     NaN  200/a-002-H 094-G-02/02       0.0        0.0\n",
       " 1746.000     NaN  200/a-002-H 094-G-02/02       0.0        0.0\n",
       " 1746.125  53.283  200/a-002-H 094-G-02/02       0.0        0.0\n",
       " 1746.250  53.127  200/a-002-H 094-G-02/02       0.0        0.0\n",
       " ...          ...                      ...       ...        ...\n",
       " 2303.750     NaN  200/a-002-H 094-G-02/02       0.0        0.0\n",
       " 2303.875     NaN  200/a-002-H 094-G-02/02       0.0        0.0\n",
       " 2304.000     NaN  200/a-002-H 094-G-02/02       0.0        0.0\n",
       " 2304.125     NaN  200/a-002-H 094-G-02/02       0.0        0.0\n",
       " 2304.250     NaN  200/a-002-H 094-G-02/02       0.0        0.0\n",
       " \n",
       " [4469 rows x 4 columns],\n",
       "           CGXT     GRGC               UWI   Latitude   Longitude\n",
       " DEPT                                                            \n",
       " 3.3        NaN   32.104  200A004H093P0900  55.586555 -120.041636\n",
       " 3.4        NaN   30.021  200A004H093P0900  55.586555 -120.041636\n",
       " 3.5        NaN   28.522  200A004H093P0900  55.586555 -120.041636\n",
       " 3.6        NaN   27.774  200A004H093P0900  55.586555 -120.041636\n",
       " 3.7        NaN   27.953  200A004H093P0900  55.586555 -120.041636\n",
       " ...        ...      ...               ...        ...         ...\n",
       " 2419.9  88.406  133.939  200A004H093P0900  55.586555 -120.041636\n",
       " 2420.0  88.458  156.386  200A004H093P0900  55.586555 -120.041636\n",
       " 2420.1  88.817  151.042  200A004H093P0900  55.586555 -120.041636\n",
       " 2420.2  88.792  144.620  200A004H093P0900  55.586555 -120.041636\n",
       " 2420.3     NaN      NaN  200A004H093P0900  55.586555 -120.041636\n",
       " \n",
       " [24171 rows x 5 columns]]"
      ]
     },
     "execution_count": 98,
     "metadata": {},
     "output_type": "execute_result"
    }
   ],
   "source": [
    "df_list"
   ]
  },
  {
   "cell_type": "code",
   "execution_count": 99,
   "metadata": {},
   "outputs": [
    {
     "data": {
      "text/html": [
       "<div>\n",
       "<style scoped>\n",
       "    .dataframe tbody tr th:only-of-type {\n",
       "        vertical-align: middle;\n",
       "    }\n",
       "\n",
       "    .dataframe tbody tr th {\n",
       "        vertical-align: top;\n",
       "    }\n",
       "\n",
       "    .dataframe thead th {\n",
       "        text-align: right;\n",
       "    }\n",
       "</style>\n",
       "<table border=\"1\" class=\"dataframe\">\n",
       "  <thead>\n",
       "    <tr style=\"text-align: right;\">\n",
       "      <th></th>\n",
       "      <th>DEPT</th>\n",
       "      <th>CGXT</th>\n",
       "      <th>GR</th>\n",
       "      <th>GRGC</th>\n",
       "      <th>Latitude</th>\n",
       "      <th>Longitude</th>\n",
       "      <th>UWI</th>\n",
       "    </tr>\n",
       "  </thead>\n",
       "  <tbody>\n",
       "    <tr>\n",
       "      <th>0</th>\n",
       "      <td>1745.750</td>\n",
       "      <td>NaN</td>\n",
       "      <td>NaN</td>\n",
       "      <td>NaN</td>\n",
       "      <td>0.000000</td>\n",
       "      <td>0.000000</td>\n",
       "      <td>200a002H094G0200</td>\n",
       "    </tr>\n",
       "    <tr>\n",
       "      <th>1</th>\n",
       "      <td>1745.875</td>\n",
       "      <td>NaN</td>\n",
       "      <td>NaN</td>\n",
       "      <td>NaN</td>\n",
       "      <td>0.000000</td>\n",
       "      <td>0.000000</td>\n",
       "      <td>200a002H094G0200</td>\n",
       "    </tr>\n",
       "    <tr>\n",
       "      <th>2</th>\n",
       "      <td>1746.000</td>\n",
       "      <td>NaN</td>\n",
       "      <td>NaN</td>\n",
       "      <td>NaN</td>\n",
       "      <td>0.000000</td>\n",
       "      <td>0.000000</td>\n",
       "      <td>200a002H094G0200</td>\n",
       "    </tr>\n",
       "    <tr>\n",
       "      <th>3</th>\n",
       "      <td>1746.125</td>\n",
       "      <td>NaN</td>\n",
       "      <td>53.283</td>\n",
       "      <td>NaN</td>\n",
       "      <td>0.000000</td>\n",
       "      <td>0.000000</td>\n",
       "      <td>200a002H094G0200</td>\n",
       "    </tr>\n",
       "    <tr>\n",
       "      <th>4</th>\n",
       "      <td>1746.250</td>\n",
       "      <td>NaN</td>\n",
       "      <td>53.127</td>\n",
       "      <td>NaN</td>\n",
       "      <td>0.000000</td>\n",
       "      <td>0.000000</td>\n",
       "      <td>200a002H094G0200</td>\n",
       "    </tr>\n",
       "    <tr>\n",
       "      <th>...</th>\n",
       "      <td>...</td>\n",
       "      <td>...</td>\n",
       "      <td>...</td>\n",
       "      <td>...</td>\n",
       "      <td>...</td>\n",
       "      <td>...</td>\n",
       "      <td>...</td>\n",
       "    </tr>\n",
       "    <tr>\n",
       "      <th>101822</th>\n",
       "      <td>2419.900</td>\n",
       "      <td>88.406</td>\n",
       "      <td>NaN</td>\n",
       "      <td>133.939</td>\n",
       "      <td>55.586555</td>\n",
       "      <td>-120.041636</td>\n",
       "      <td>200A004H093P0900</td>\n",
       "    </tr>\n",
       "    <tr>\n",
       "      <th>101823</th>\n",
       "      <td>2420.000</td>\n",
       "      <td>88.458</td>\n",
       "      <td>NaN</td>\n",
       "      <td>156.386</td>\n",
       "      <td>55.586555</td>\n",
       "      <td>-120.041636</td>\n",
       "      <td>200A004H093P0900</td>\n",
       "    </tr>\n",
       "    <tr>\n",
       "      <th>101824</th>\n",
       "      <td>2420.100</td>\n",
       "      <td>88.817</td>\n",
       "      <td>NaN</td>\n",
       "      <td>151.042</td>\n",
       "      <td>55.586555</td>\n",
       "      <td>-120.041636</td>\n",
       "      <td>200A004H093P0900</td>\n",
       "    </tr>\n",
       "    <tr>\n",
       "      <th>101825</th>\n",
       "      <td>2420.200</td>\n",
       "      <td>88.792</td>\n",
       "      <td>NaN</td>\n",
       "      <td>144.620</td>\n",
       "      <td>55.586555</td>\n",
       "      <td>-120.041636</td>\n",
       "      <td>200A004H093P0900</td>\n",
       "    </tr>\n",
       "    <tr>\n",
       "      <th>101826</th>\n",
       "      <td>2420.300</td>\n",
       "      <td>NaN</td>\n",
       "      <td>NaN</td>\n",
       "      <td>NaN</td>\n",
       "      <td>55.586555</td>\n",
       "      <td>-120.041636</td>\n",
       "      <td>200A004H093P0900</td>\n",
       "    </tr>\n",
       "  </tbody>\n",
       "</table>\n",
       "<p>101827 rows × 7 columns</p>\n",
       "</div>"
      ],
      "text/plain": [
       "            DEPT    CGXT      GR     GRGC   Latitude   Longitude  \\\n",
       "0       1745.750     NaN     NaN      NaN   0.000000    0.000000   \n",
       "1       1745.875     NaN     NaN      NaN   0.000000    0.000000   \n",
       "2       1746.000     NaN     NaN      NaN   0.000000    0.000000   \n",
       "3       1746.125     NaN  53.283      NaN   0.000000    0.000000   \n",
       "4       1746.250     NaN  53.127      NaN   0.000000    0.000000   \n",
       "...          ...     ...     ...      ...        ...         ...   \n",
       "101822  2419.900  88.406     NaN  133.939  55.586555 -120.041636   \n",
       "101823  2420.000  88.458     NaN  156.386  55.586555 -120.041636   \n",
       "101824  2420.100  88.817     NaN  151.042  55.586555 -120.041636   \n",
       "101825  2420.200  88.792     NaN  144.620  55.586555 -120.041636   \n",
       "101826  2420.300     NaN     NaN      NaN  55.586555 -120.041636   \n",
       "\n",
       "                     UWI  \n",
       "0       200a002H094G0200  \n",
       "1       200a002H094G0200  \n",
       "2       200a002H094G0200  \n",
       "3       200a002H094G0200  \n",
       "4       200a002H094G0200  \n",
       "...                  ...  \n",
       "101822  200A004H093P0900  \n",
       "101823  200A004H093P0900  \n",
       "101824  200A004H093P0900  \n",
       "101825  200A004H093P0900  \n",
       "101826  200A004H093P0900  \n",
       "\n",
       "[101827 rows x 7 columns]"
      ]
     },
     "execution_count": 99,
     "metadata": {},
     "output_type": "execute_result"
    }
   ],
   "source": [
    "workingdf = pd.concat(df_list, sort=True)\n",
    "workingdf = workingdf.reset_index()\n",
    "workingdf"
   ]
  },
  {
   "cell_type": "code",
   "execution_count": null,
   "metadata": {},
   "outputs": [],
   "source": []
  },
  {
   "cell_type": "code",
   "execution_count": 102,
   "metadata": {},
   "outputs": [
    {
     "data": {
      "text/plain": [
       "array(['200a002H094G0200', '200A002H094G0200', '200/a-002-H 094-G-02/02',\n",
       "       '200A004H093P0900'], dtype=object)"
      ]
     },
     "execution_count": 102,
     "metadata": {},
     "output_type": "execute_result"
    }
   ],
   "source": [
    "workingdf['UWI'].unique()"
   ]
  },
  {
   "cell_type": "code",
   "execution_count": 103,
   "metadata": {},
   "outputs": [],
   "source": [
    "# Libraries for data visualization:\n",
    "import matplotlib.pyplot as plt\n",
    "import seaborn as sns"
   ]
  },
  {
   "cell_type": "code",
   "execution_count": 111,
   "metadata": {},
   "outputs": [
    {
     "data": {
      "text/html": [
       "<div>\n",
       "<style scoped>\n",
       "    .dataframe tbody tr th:only-of-type {\n",
       "        vertical-align: middle;\n",
       "    }\n",
       "\n",
       "    .dataframe tbody tr th {\n",
       "        vertical-align: top;\n",
       "    }\n",
       "\n",
       "    .dataframe thead th {\n",
       "        text-align: right;\n",
       "    }\n",
       "</style>\n",
       "<table border=\"1\" class=\"dataframe\">\n",
       "  <thead>\n",
       "    <tr style=\"text-align: right;\">\n",
       "      <th></th>\n",
       "      <th>DEPT</th>\n",
       "      <th>CGXT</th>\n",
       "      <th>GR</th>\n",
       "      <th>GRGC</th>\n",
       "      <th>Latitude</th>\n",
       "      <th>Longitude</th>\n",
       "      <th>UWI</th>\n",
       "    </tr>\n",
       "  </thead>\n",
       "  <tbody>\n",
       "    <tr>\n",
       "      <th>0</th>\n",
       "      <td>1745.750</td>\n",
       "      <td>NaN</td>\n",
       "      <td>NaN</td>\n",
       "      <td>NaN</td>\n",
       "      <td>0.000000</td>\n",
       "      <td>0.000000</td>\n",
       "      <td>200a002H094G0200</td>\n",
       "    </tr>\n",
       "    <tr>\n",
       "      <th>1</th>\n",
       "      <td>1745.875</td>\n",
       "      <td>NaN</td>\n",
       "      <td>NaN</td>\n",
       "      <td>NaN</td>\n",
       "      <td>0.000000</td>\n",
       "      <td>0.000000</td>\n",
       "      <td>200a002H094G0200</td>\n",
       "    </tr>\n",
       "    <tr>\n",
       "      <th>2</th>\n",
       "      <td>1746.000</td>\n",
       "      <td>NaN</td>\n",
       "      <td>NaN</td>\n",
       "      <td>NaN</td>\n",
       "      <td>0.000000</td>\n",
       "      <td>0.000000</td>\n",
       "      <td>200a002H094G0200</td>\n",
       "    </tr>\n",
       "    <tr>\n",
       "      <th>3</th>\n",
       "      <td>1746.125</td>\n",
       "      <td>NaN</td>\n",
       "      <td>53.283</td>\n",
       "      <td>NaN</td>\n",
       "      <td>0.000000</td>\n",
       "      <td>0.000000</td>\n",
       "      <td>200a002H094G0200</td>\n",
       "    </tr>\n",
       "    <tr>\n",
       "      <th>4</th>\n",
       "      <td>1746.250</td>\n",
       "      <td>NaN</td>\n",
       "      <td>53.127</td>\n",
       "      <td>NaN</td>\n",
       "      <td>0.000000</td>\n",
       "      <td>0.000000</td>\n",
       "      <td>200a002H094G0200</td>\n",
       "    </tr>\n",
       "    <tr>\n",
       "      <th>4469</th>\n",
       "      <td>39.000</td>\n",
       "      <td>NaN</td>\n",
       "      <td>NaN</td>\n",
       "      <td>NaN</td>\n",
       "      <td>0.000000</td>\n",
       "      <td>0.000000</td>\n",
       "      <td>200A002H094G0200</td>\n",
       "    </tr>\n",
       "    <tr>\n",
       "      <th>4470</th>\n",
       "      <td>39.125</td>\n",
       "      <td>NaN</td>\n",
       "      <td>NaN</td>\n",
       "      <td>NaN</td>\n",
       "      <td>0.000000</td>\n",
       "      <td>0.000000</td>\n",
       "      <td>200A002H094G0200</td>\n",
       "    </tr>\n",
       "    <tr>\n",
       "      <th>4471</th>\n",
       "      <td>39.250</td>\n",
       "      <td>NaN</td>\n",
       "      <td>NaN</td>\n",
       "      <td>NaN</td>\n",
       "      <td>0.000000</td>\n",
       "      <td>0.000000</td>\n",
       "      <td>200A002H094G0200</td>\n",
       "    </tr>\n",
       "    <tr>\n",
       "      <th>4472</th>\n",
       "      <td>39.375</td>\n",
       "      <td>NaN</td>\n",
       "      <td>51.086</td>\n",
       "      <td>NaN</td>\n",
       "      <td>0.000000</td>\n",
       "      <td>0.000000</td>\n",
       "      <td>200A002H094G0200</td>\n",
       "    </tr>\n",
       "    <tr>\n",
       "      <th>4473</th>\n",
       "      <td>39.500</td>\n",
       "      <td>NaN</td>\n",
       "      <td>51.881</td>\n",
       "      <td>NaN</td>\n",
       "      <td>0.000000</td>\n",
       "      <td>0.000000</td>\n",
       "      <td>200A002H094G0200</td>\n",
       "    </tr>\n",
       "    <tr>\n",
       "      <th>38828</th>\n",
       "      <td>39.000</td>\n",
       "      <td>NaN</td>\n",
       "      <td>NaN</td>\n",
       "      <td>NaN</td>\n",
       "      <td>0.000000</td>\n",
       "      <td>0.000000</td>\n",
       "      <td>200/a-002-H 094-G-02/02</td>\n",
       "    </tr>\n",
       "    <tr>\n",
       "      <th>38829</th>\n",
       "      <td>39.125</td>\n",
       "      <td>NaN</td>\n",
       "      <td>NaN</td>\n",
       "      <td>NaN</td>\n",
       "      <td>0.000000</td>\n",
       "      <td>0.000000</td>\n",
       "      <td>200/a-002-H 094-G-02/02</td>\n",
       "    </tr>\n",
       "    <tr>\n",
       "      <th>38830</th>\n",
       "      <td>39.250</td>\n",
       "      <td>NaN</td>\n",
       "      <td>NaN</td>\n",
       "      <td>NaN</td>\n",
       "      <td>0.000000</td>\n",
       "      <td>0.000000</td>\n",
       "      <td>200/a-002-H 094-G-02/02</td>\n",
       "    </tr>\n",
       "    <tr>\n",
       "      <th>38831</th>\n",
       "      <td>39.375</td>\n",
       "      <td>NaN</td>\n",
       "      <td>51.086</td>\n",
       "      <td>NaN</td>\n",
       "      <td>0.000000</td>\n",
       "      <td>0.000000</td>\n",
       "      <td>200/a-002-H 094-G-02/02</td>\n",
       "    </tr>\n",
       "    <tr>\n",
       "      <th>38832</th>\n",
       "      <td>39.500</td>\n",
       "      <td>NaN</td>\n",
       "      <td>51.881</td>\n",
       "      <td>NaN</td>\n",
       "      <td>0.000000</td>\n",
       "      <td>0.000000</td>\n",
       "      <td>200/a-002-H 094-G-02/02</td>\n",
       "    </tr>\n",
       "    <tr>\n",
       "      <th>77656</th>\n",
       "      <td>3.300</td>\n",
       "      <td>NaN</td>\n",
       "      <td>NaN</td>\n",
       "      <td>32.104</td>\n",
       "      <td>55.586555</td>\n",
       "      <td>-120.041636</td>\n",
       "      <td>200A004H093P0900</td>\n",
       "    </tr>\n",
       "    <tr>\n",
       "      <th>77657</th>\n",
       "      <td>3.400</td>\n",
       "      <td>NaN</td>\n",
       "      <td>NaN</td>\n",
       "      <td>30.021</td>\n",
       "      <td>55.586555</td>\n",
       "      <td>-120.041636</td>\n",
       "      <td>200A004H093P0900</td>\n",
       "    </tr>\n",
       "    <tr>\n",
       "      <th>77658</th>\n",
       "      <td>3.500</td>\n",
       "      <td>NaN</td>\n",
       "      <td>NaN</td>\n",
       "      <td>28.522</td>\n",
       "      <td>55.586555</td>\n",
       "      <td>-120.041636</td>\n",
       "      <td>200A004H093P0900</td>\n",
       "    </tr>\n",
       "    <tr>\n",
       "      <th>77659</th>\n",
       "      <td>3.600</td>\n",
       "      <td>NaN</td>\n",
       "      <td>NaN</td>\n",
       "      <td>27.774</td>\n",
       "      <td>55.586555</td>\n",
       "      <td>-120.041636</td>\n",
       "      <td>200A004H093P0900</td>\n",
       "    </tr>\n",
       "    <tr>\n",
       "      <th>77660</th>\n",
       "      <td>3.700</td>\n",
       "      <td>NaN</td>\n",
       "      <td>NaN</td>\n",
       "      <td>27.953</td>\n",
       "      <td>55.586555</td>\n",
       "      <td>-120.041636</td>\n",
       "      <td>200A004H093P0900</td>\n",
       "    </tr>\n",
       "  </tbody>\n",
       "</table>\n",
       "</div>"
      ],
      "text/plain": [
       "           DEPT  CGXT      GR    GRGC   Latitude   Longitude  \\\n",
       "0      1745.750   NaN     NaN     NaN   0.000000    0.000000   \n",
       "1      1745.875   NaN     NaN     NaN   0.000000    0.000000   \n",
       "2      1746.000   NaN     NaN     NaN   0.000000    0.000000   \n",
       "3      1746.125   NaN  53.283     NaN   0.000000    0.000000   \n",
       "4      1746.250   NaN  53.127     NaN   0.000000    0.000000   \n",
       "4469     39.000   NaN     NaN     NaN   0.000000    0.000000   \n",
       "4470     39.125   NaN     NaN     NaN   0.000000    0.000000   \n",
       "4471     39.250   NaN     NaN     NaN   0.000000    0.000000   \n",
       "4472     39.375   NaN  51.086     NaN   0.000000    0.000000   \n",
       "4473     39.500   NaN  51.881     NaN   0.000000    0.000000   \n",
       "38828    39.000   NaN     NaN     NaN   0.000000    0.000000   \n",
       "38829    39.125   NaN     NaN     NaN   0.000000    0.000000   \n",
       "38830    39.250   NaN     NaN     NaN   0.000000    0.000000   \n",
       "38831    39.375   NaN  51.086     NaN   0.000000    0.000000   \n",
       "38832    39.500   NaN  51.881     NaN   0.000000    0.000000   \n",
       "77656     3.300   NaN     NaN  32.104  55.586555 -120.041636   \n",
       "77657     3.400   NaN     NaN  30.021  55.586555 -120.041636   \n",
       "77658     3.500   NaN     NaN  28.522  55.586555 -120.041636   \n",
       "77659     3.600   NaN     NaN  27.774  55.586555 -120.041636   \n",
       "77660     3.700   NaN     NaN  27.953  55.586555 -120.041636   \n",
       "\n",
       "                           UWI  \n",
       "0             200a002H094G0200  \n",
       "1             200a002H094G0200  \n",
       "2             200a002H094G0200  \n",
       "3             200a002H094G0200  \n",
       "4             200a002H094G0200  \n",
       "4469          200A002H094G0200  \n",
       "4470          200A002H094G0200  \n",
       "4471          200A002H094G0200  \n",
       "4472          200A002H094G0200  \n",
       "4473          200A002H094G0200  \n",
       "38828  200/a-002-H 094-G-02/02  \n",
       "38829  200/a-002-H 094-G-02/02  \n",
       "38830  200/a-002-H 094-G-02/02  \n",
       "38831  200/a-002-H 094-G-02/02  \n",
       "38832  200/a-002-H 094-G-02/02  \n",
       "77656         200A004H093P0900  \n",
       "77657         200A004H093P0900  \n",
       "77658         200A004H093P0900  \n",
       "77659         200A004H093P0900  \n",
       "77660         200A004H093P0900  "
      ]
     },
     "execution_count": 111,
     "metadata": {},
     "output_type": "execute_result"
    }
   ],
   "source": [
    "grouped = workingdf.groupby('UWI')\n",
    "grouped.head()"
   ]
  },
  {
   "cell_type": "code",
   "execution_count": 108,
   "metadata": {},
   "outputs": [
    {
     "data": {
      "image/png": "[encoded data removed]",
      "text/plain": [
       "<Figure size 720x720 with 8 Axes>"
      ]
     },
     "metadata": {
      "needs_background": "light"
     },
     "output_type": "display_data"
    }
   ],
   "source": [
    "fig, axs = plt.subplots(2, 2, figsize=(10,10))\n",
    "\n",
    "for (name, df), ax in zip(grouped, axs.flat):\n",
    "    df.plot(kind='scatter', x='GR', y='DEPT', \n",
    "            ax=ax, c='GR', cmap='jet', vmin=0, vmax=150)\n",
    "    ax.set_xlim(-0.15,800)\n",
    "    ax.set_ylim(0,2500)\n",
    "    ax.set_title(name)\n",
    "    ax.grid(True)\n",
    "    ax.set_axisbelow(True)\n",
    "plt.tight_layout()"
   ]
  },
  {
   "cell_type": "markdown",
   "metadata": {},
   "source": [
    "# One well, 3logs!"
   ]
  },
  {
   "cell_type": "code",
   "execution_count": null,
   "metadata": {},
   "outputs": [],
   "source": []
  },
  {
   "cell_type": "code",
   "execution_count": 70,
   "metadata": {},
   "outputs": [],
   "source": [
    "las = lasio.read(\"200a002H094G0202_g13_TVD_MainPass_SelCrv.las\")"
   ]
  },
  {
   "cell_type": "code",
   "execution_count": 72,
   "metadata": {},
   "outputs": [
    {
     "data": {
      "text/plain": [
       "['DEPT', 'GR']"
      ]
     },
     "execution_count": 72,
     "metadata": {},
     "output_type": "execute_result"
    }
   ],
   "source": [
    "las.keys()"
   ]
  },
  {
   "cell_type": "code",
   "execution_count": 4,
   "metadata": {},
   "outputs": [],
   "source": [
    "las.to_excel('las.xlsx')"
   ]
  },
  {
   "cell_type": "code",
   "execution_count": 71,
   "metadata": {},
   "outputs": [
    {
     "data": {
      "text/plain": [
       "array([[2304.25 ,      nan],\n",
       "       [2304.125,      nan],\n",
       "       [2304.   ,      nan],\n",
       "       ...,\n",
       "       [1746.   ,      nan],\n",
       "       [1745.875,      nan],\n",
       "       [1745.75 ,      nan]])"
      ]
     },
     "execution_count": 71,
     "metadata": {},
     "output_type": "execute_result"
    }
   ],
   "source": [
    "las.data"
   ]
  },
  {
   "cell_type": "code",
   "execution_count": 78,
   "metadata": {},
   "outputs": [
    {
     "data": {
      "text/plain": [
       "array([58.739, 52.869, 45.142, 37.876, 33.129, 31.906, 32.998, 34.397,\n",
       "       35.004, 35.112, 35.657, 36.963, 38.096, 38.11 , 37.089, 35.762,\n",
       "       34.626, 34.122, 35.05 , 37.809, 41.387, 43.918, 43.616, 40.179,\n",
       "       35.291, 31.291, 29.608, 30.37 , 32.278, 33.685, 33.894, 33.453,\n",
       "       33.239, 33.086, 32.119, 30.044, 27.557, 25.691, 25.006, 25.586,\n",
       "       27.25 , 29.735, 32.071, 33.522, 34.023, 33.791, 33.131, 32.549,\n",
       "       32.418, 33.474])"
      ]
     },
     "execution_count": 78,
     "metadata": {},
     "output_type": "execute_result"
    }
   ],
   "source": [
    "las.data[400:450,1]"
   ]
  },
  {
   "cell_type": "code",
   "execution_count": 73,
   "metadata": {},
   "outputs": [
    {
     "name": "stdout",
     "output_type": "stream",
     "text": [
      "Mnemonic  Unit  Value         Description    \n",
      "--------  ----  -----         -----------    \n",
      "DEPT      M     09 600 00 00  01  DEPTH      \n",
      "GR        API   00 310 01 01  07  Gamma Ray  \n"
     ]
    }
   ],
   "source": [
    "print(las.curves)"
   ]
  },
  {
   "cell_type": "code",
   "execution_count": 75,
   "metadata": {},
   "outputs": [
    {
     "data": {
      "text/plain": [
       "CurveItem(mnemonic=\"DEPT\", unit=\"M\", value=\"09 600 00 00\", descr=\"01  DEPTH\", original_mnemonic=\"DEPT\", data.shape=(4469,))"
      ]
     },
     "execution_count": 75,
     "metadata": {},
     "output_type": "execute_result"
    }
   ],
   "source": [
    "las.curves.DEPT"
   ]
  },
  {
   "cell_type": "code",
   "execution_count": 58,
   "metadata": {},
   "outputs": [
    {
     "data": {
      "text/plain": [
       "[HeaderItem(mnemonic=\"STRT\", unit=\"M\", value=\"2304.25\", descr=\"START DEPTH\"),\n",
       " HeaderItem(mnemonic=\"STOP\", unit=\"M\", value=\"1745.75\", descr=\"STOP DEPTH\"),\n",
       " HeaderItem(mnemonic=\"STEP\", unit=\"M\", value=\"-0.125\", descr=\"STEP\"),\n",
       " HeaderItem(mnemonic=\"NULL\", unit=\"\", value=\"-999.25\", descr=\"NULL\"),\n",
       " HeaderItem(mnemonic=\"COMP\", unit=\"\", value=\"PROEX ENERGY LTD.\", descr=\"COMPANY\"),\n",
       " HeaderItem(mnemonic=\"WELL\", unit=\"\", value=\"PROEX  N- JULIENNE A-2-H/94-G-2\"...),\n",
       " HeaderItem(mnemonic=\"FLD\", unit=\"\", value=\"JULIENNE CREEK NORTH\", descr=\"FIE...),\n",
       " HeaderItem(mnemonic=\"LOC\", unit=\"\", value=\"A-2-H/94-G-2\", descr=\"LOCATION\"),\n",
       " HeaderItem(mnemonic=\"PROV\", unit=\"\", value=\"British Columbia\", descr=\"PROVINCE\"),\n",
       " HeaderItem(mnemonic=\"UWI\", unit=\"\", value=\"200/a-002-H 094-G-02/02\", descr=\"...),\n",
       " HeaderItem(mnemonic=\"LIC\", unit=\"\", value=\"20010\", descr=\"\"),\n",
       " HeaderItem(mnemonic=\"CTRY\", unit=\"\", value=\"CANADA\", descr=\"COUNTRY\"),\n",
       " HeaderItem(mnemonic=\"SRVC\", unit=\"\", value=\"PRECISION WIRELINE\", descr=\"SERV...),\n",
       " HeaderItem(mnemonic=\"DATE\", unit=\"\", value=\"21-APR-2006\", descr=\"LOG DATE\"),\n",
       " HeaderItem(mnemonic=\"LATI\", unit=\"\", value=\"0.0\", descr=\"LATITUDE\"),\n",
       " HeaderItem(mnemonic=\"LONG\", unit=\"\", value=\"0.0\", descr=\"LONGITUDE\")]"
      ]
     },
     "execution_count": 58,
     "metadata": {},
     "output_type": "execute_result"
    }
   ],
   "source": [
    "las.well"
   ]
  },
  {
   "cell_type": "code",
   "execution_count": 7,
   "metadata": {},
   "outputs": [
    {
     "name": "stdout",
     "output_type": "stream",
     "text": [
      "ok\n"
     ]
    }
   ],
   "source": [
    "if 'UWI' in las.well:\n",
    "    print(\"ok\")"
   ]
  },
  {
   "cell_type": "code",
   "execution_count": 79,
   "metadata": {},
   "outputs": [
    {
     "name": "stdout",
     "output_type": "stream",
     "text": [
      "200/a-002-H 094-G-02/02 0.0 0.0\n"
     ]
    }
   ],
   "source": [
    "print(las.well.UWI.value,las.well.LATI.value,las.well.LONG.value)"
   ]
  },
  {
   "cell_type": "code",
   "execution_count": 17,
   "metadata": {},
   "outputs": [
    {
     "name": "stdout",
     "output_type": "stream",
     "text": [
      "Mnemonic  Unit   Value                Description                   \n",
      "--------  ----   -----                -----------                   \n",
      "RUN              1                    Run Number                    \n",
      "HIDE             TRUE VERTICAL DEPTH  Header Identifier             \n",
      "DSRC             GovBoard             Digital Data Source           \n",
      "EGL       M      751.7                Ground Level Elevation        \n",
      "EREF      M      757.1                Elevation of Depth Reference  \n",
      "EKB       M      757.2                Elevation of Kelly Bushing    \n",
      "TDL       M      4089.3               Total Depth Logger            \n",
      "TDD       M      4098.0               Total Depth Driller           \n",
      "TLI       M      2.711                Top of Logged Interval        \n",
      "BLI       M      2420.411             Bottom of Logged Interval     \n",
      "CSGL      M      368.0                Casing Bottom Logger          \n",
      "CSGS      MM     244.5                Casing Size                   \n",
      "CSGW      KG/M   53.57                Casing Weight                 \n",
      "BHT       DEGC   91.0                 Bottom Hole Temperature       \n",
      "BS        MM     156.0                Bit Size                      \n",
      "MUD              INVERT               Mud Type                      \n",
      "MUDD      KG/M3  1270.0               Mud Weight (Density)          \n",
      "MUDV      CP     78.0                 Mud Viscosity                 \n"
     ]
    }
   ],
   "source": [
    "print(las.params)"
   ]
  }
 ],
 "metadata": {
  "kernelspec": {
   "display_name": "Python 3",
   "language": "python",
   "name": "python3"
  },
  "language_info": {
   "codemirror_mode": {
    "name": "ipython",
    "version": 3
   },
   "file_extension": ".py",
   "mimetype": "text/x-python",
   "name": "python",
   "nbconvert_exporter": "python",
   "pygments_lexer": "ipython3",
   "version": "3.7.6"
  }
 },
 "nbformat": 4,
 "nbformat_minor": 4
}
